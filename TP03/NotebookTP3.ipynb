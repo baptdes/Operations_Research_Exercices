{
 "cells": [
  {
   "cell_type": "markdown",
   "metadata": {},
   "source": [
    "### Récupération des données"
   ]
  },
  {
   "cell_type": "code",
   "execution_count": 2,
   "metadata": {},
   "outputs": [
    {
     "data": {
      "text/plain": [
       "readKnaptxtInstance (generic function with 1 method)"
      ]
     },
     "metadata": {},
     "output_type": "display_data"
    }
   ],
   "source": [
    "function readKnaptxtInstance(filename)\n",
    "    price=Int64[]\n",
    "    weight=Int64[]\n",
    "    KnapCap=Int64[]\n",
    "    open(filename) do f\n",
    "        for i in 1:3\n",
    "            tok = split(readline(f))\n",
    "            if(tok[1] == \"ListPrices=\")\n",
    "                for i in 2:(length(tok)-1)\n",
    "                    push!(price,parse(Int64, tok[i]))\n",
    "                end\n",
    "            elseif(tok[1] == \"ListWeights=\")\n",
    "                for i in 2:(length(tok)-1)\n",
    "                    push!(weight,parse(Int64, tok[i]))\n",
    "                end\n",
    "            elseif(tok[1] == \"Capacity=\")\n",
    "                push!(KnapCap, parse(Int64, tok[2]))\n",
    "            else\n",
    "                println(\"Unknown read :\", tok)\n",
    "            end\n",
    "        end\n",
    "    end\n",
    "    capacity=KnapCap[1]\n",
    "    return price, weight, capacity\n",
    "end"
   ]
  },
  {
   "cell_type": "markdown",
   "metadata": {},
   "source": [
    "# Programmation dynamique\n",
    "\n",
    "## Le problème\n",
    "\n",
    "$C_{i,j}$ : valeur maximale des objets que l'on peut transporter si le poids maximal permis est $j$ et que les objets que l'on peut inclure sont ceux numérotés de $1$ à $i$\n",
    "\n",
    "Initialisation : Pour tout $i$, $C_{i,0} = 0$\n",
    "\n",
    "Relation de récurrence : $C_{i,j} = \\max(C_{i-1,j}, C_{i-1,j-w_i} + c_i)$"
   ]
  },
  {
   "cell_type": "code",
   "execution_count": 36,
   "metadata": {},
   "outputs": [
    {
     "data": {
      "text/plain": [
       "2-element Vector{Any}:\n",
       " 2\n",
       " 4"
      ]
     },
     "metadata": {},
     "output_type": "display_data"
    }
   ],
   "source": [
    "function resolveKnapsackDynamic(price::Vector{Int64}, weight::Vector{Int64}, capacity::Int64)\n",
    "\n",
    "    nb_objects = length(price)\n",
    "    # Initialize matrix (Cij)\n",
    "    C = zeros(Int, nb_objects, capacity + 1)\n",
    "    # Recursion\n",
    "\n",
    "    #First column\n",
    "    for j in 1:capacity + 1\n",
    "        if weight[1] > (j-1)\n",
    "            C[1, j] = 0\n",
    "        else\n",
    "            C[1, j] = price[1]\n",
    "        end\n",
    "    end\n",
    "\n",
    "    # Fill other columns\n",
    "    for i in 2:nb_objects\n",
    "        for j in 1:capacity + 1\n",
    "            if j - 1 - weight[i] < 0\n",
    "                C[i, j] = C[i-1, j]\n",
    "            else\n",
    "                C[i, j] = max(C[i-1, j], C[i-1, j - weight[i]] + price[i])\n",
    "            end\n",
    "        end\n",
    "    end\n",
    "\n",
    "    i = nb_objects\n",
    "    j = capacity + 1\n",
    "    res = []\n",
    "\n",
    "    while i > 1\n",
    "        if j - weight[i] > 0 && C[i-1,j] < C[i-1, j - weight[i]] + price[i]\n",
    "            push!(res, i)\n",
    "            j = j - weight[i]\n",
    "            i = i - 1\n",
    "        else\n",
    "            i = i - 1\n",
    "        end\n",
    "    end\n",
    "\n",
    "    if C[i,j] > 0\n",
    "        push!(res, i)\n",
    "    end\n",
    "\n",
    "\n",
    "    return reverse!(res)\n",
    "end\n",
    "\n",
    "\n",
    "price = [42, 40, 12, 25]\n",
    "weight = [7, 4, 3, 5]\n",
    "capacity = 10\n",
    "\n",
    "resolveKnapsackDynamic(price, weight, capacity)"
   ]
  },
  {
   "cell_type": "code",
   "execution_count": 40,
   "metadata": {},
   "outputs": [
    {
     "data": {
      "text/plain": [
       "9-element Vector{Any}:\n",
       "  29\n",
       "  77\n",
       " 273\n",
       " 279\n",
       " 559\n",
       " 782\n",
       " 814\n",
       " 858\n",
       " 889"
      ]
     },
     "metadata": {},
     "output_type": "display_data"
    }
   ],
   "source": [
    "price, weight, capacity = readKnaptxtInstance(\"../DonneeSacADos/Similar_Weights/KnapSack_1000_1000_-8943.opb.txt\")\n",
    "resolveKnapsackDynamic(price, weight, capacity)"
   ]
  }
 ],
 "metadata": {
  "kernelspec": {
   "display_name": "Julia 1.11.1",
   "language": "julia",
   "name": "julia-1.11"
  },
  "language_info": {
   "file_extension": ".jl",
   "mimetype": "application/julia",
   "name": "julia",
   "version": "1.11.1"
  }
 },
 "nbformat": 4,
 "nbformat_minor": 4
}
